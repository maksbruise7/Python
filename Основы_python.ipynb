{
  "nbformat": 4,
  "nbformat_minor": 0,
  "metadata": {
    "colab": {
      "provenance": [],
      "authorship_tag": "ABX9TyOjOezsIUzPa7+A+khqZY42",
      "include_colab_link": true
    },
    "kernelspec": {
      "name": "python3",
      "display_name": "Python 3"
    },
    "language_info": {
      "name": "python"
    }
  },
  "cells": [
    {
      "cell_type": "markdown",
      "metadata": {
        "id": "view-in-github",
        "colab_type": "text"
      },
      "source": [
        "<a href=\"https://colab.research.google.com/github/ViktoriaBekhter/Python/blob/main/%D0%9E%D1%81%D0%BD%D0%BE%D0%B2%D1%8B_python.ipynb\" target=\"_parent\"><img src=\"https://colab.research.google.com/assets/colab-badge.svg\" alt=\"Open In Colab\"/></a>"
      ]
    },
    {
      "cell_type": "markdown",
      "source": [
        "Задание 1. Даны 2 переменных, в которых хранятся строки произвольной длины: phrase_1 и phrase_2. Напишите код, который проверяет какая из этих строк длиннее."
      ],
      "metadata": {
        "id": "OaWj0mBhpoLa"
      }
    },
    {
      "cell_type": "code",
      "source": [
        "phrase_1 =  'Насколько проще было бы писать программы, если бы не заказчики'\n",
        "phrase_2 =  '640Кб должно хватить для любых задач'\n",
        "if len(phrase_1) > len(phrase_2): print('first')\n",
        "elif len(phrase_1) < len(phrase_2): print('seconde')\n"
      ],
      "metadata": {
        "colab": {
          "base_uri": "https://localhost:8080/"
        },
        "id": "fwY9pBGtptSg",
        "outputId": "b9bb0b97-03c3-4d3d-93cd-a33c1bba4697"
      },
      "execution_count": null,
      "outputs": [
        {
          "output_type": "stream",
          "name": "stdout",
          "text": [
            "first\n"
          ]
        }
      ]
    },
    {
      "cell_type": "markdown",
      "source": [
        "Задание 2. Дана переменная, в которой хранится число (год). Необходимо написать программу, которая выведет, является ли данный год високосным или обычным."
      ],
      "metadata": {
        "id": "2fKWBY4du8xm"
      }
    },
    {
      "cell_type": "code",
      "source": [
        "year = 2022\n",
        "if (year % 4 == 0) and (year % 100 != 0) or (year % 400 == 0):\n",
        "    print('Високосный год')\n",
        "else:\n",
        "    print('Обычный год')"
      ],
      "metadata": {
        "colab": {
          "base_uri": "https://localhost:8080/"
        },
        "id": "Kxja46ymu-9F",
        "outputId": "3e17733f-4bff-4d3f-c297-0a83dd730102"
      },
      "execution_count": null,
      "outputs": [
        {
          "output_type": "stream",
          "name": "stdout",
          "text": [
            "Обычный год\n"
          ]
        }
      ]
    },
    {
      "cell_type": "markdown",
      "source": [
        "Задание 3. Необходимо написать программу, которая будет запрашивать у пользователя месяц и дату рождения и выводить соответствующий знак зодиака."
      ],
      "metadata": {
        "id": "BQDFGvYUv8nT"
      }
    },
    {
      "cell_type": "code",
      "source": [
        "date=int(input(\"Введите день рождения:\"))\n",
        "\n",
        "month=int(input(\"Введите месяц рождения:\"))\n",
        "\n",
        "year=int(input(\"Введите год рождения:\"))\n",
        "\n",
        "\n",
        "if (date>=21 and date<=31 and month==3) or( month==4 and date>=1 and date<=19):\n",
        "\n",
        "   print(\"Знак зодиака:Овен\")\n",
        "\n",
        "elif (date>=20 and date<=30 and month==4) or( month==5 and date>=1 and date<=20):\n",
        "\n",
        "   print(\"Знак зодиака:Телец\")\n",
        "\n",
        "elif (date>=21 and date<=31 and month==5) or( month==6 and date>=1 and date<=21):\n",
        "\n",
        "   print(\"Знак зодиака:Близнецы\")\n",
        "\n",
        "elif (date>=22 and date<=30 and month==6) or( month==7 and date>=1 and date<=22):\n",
        "\n",
        "   print(\"Знак зодиака:Рак\")\n",
        "\n",
        "elif (date>=23 and date<=31 and month==7) or( month==8 and date>=1 and date<=22):\n",
        "\n",
        "   print(\"Знак зодиака:Лев\")\n",
        "\n",
        "elif (date>=23 and date<=31 and month==8) or( month==9 and date>=1 and date<=22):\n",
        "\n",
        "   print(\"Знак зодиака:Дева\")\n",
        "\n",
        "elif (date>=23 and date<=30 and month==9) or( month==10 and date>=1 and date<=23):\n",
        "\n",
        "   print(\"Знак зодиака:Весы\")\n",
        "\n",
        "elif (date>=24 and date<=31 and month==10) or( month==11 and date>=1 and date<=22):\n",
        "\n",
        "   print(\"Знак зодиака:Скорпион\")\n",
        "\n",
        "elif (date>=23 and date<=30 and month==11) or( month==12 and date>=1 and date<=21):\n",
        "\n",
        "   print(\"Знак зодиака:Стрелец\")\n",
        "\n",
        "elif (date>=22 and date<=31 and month==12) or( month==1 and date>=1 and date<=20):\n",
        "\n",
        "   print(\"Знак зодиака:Козерог\")\n",
        "\n",
        "elif (date>=21 and date<=31 and month==1) or( month==2 and date>=1 and date<=18):\n",
        "\n",
        "   print(\"Знак зодиака:Водолей\")\n",
        "\n",
        "elif (date>=19 and date<=29 and month==2) or( month==3 and date>=1 and date<=20):\n",
        "\n",
        "   print(\"Знак зодиака:Рыбы\")"
      ],
      "metadata": {
        "colab": {
          "base_uri": "https://localhost:8080/"
        },
        "id": "uszjF8DLEtva",
        "outputId": "48088496-4d0e-49c8-b4c6-c8138b1f407c"
      },
      "execution_count": null,
      "outputs": [
        {
          "output_type": "stream",
          "name": "stdout",
          "text": [
            "Введите день рождения:18\n",
            "Введите месяц рождения:8\n",
            "Введите год рождения:2004\n",
            "Знак зодиака:Лев\n"
          ]
        }
      ]
    },
    {
      "cell_type": "markdown",
      "source": [
        "Задание 4. Вам нужно написать программу для подбора упаковок по размерам товара. Размеры (ширина, длина, высота) хранятся в переменных (в сантиметрах):\n",
        "\n",
        "Используйте следующие правила:\n",
        "\n",
        "если каждое из трех измерений менее или равно 15 сантиметрам, то выведите на экран \"Коробка №1\"; если хотя бы одно из измерений больше 2 метров, то выводите \"Упаковка для лыж\"; если хотя бы одно из измерений больше 15 сантиметров, но менее 50 сантиметров, то выводите \"Коробка №2\"; во всех остальных случаях выводите \"Коробка №3\"."
      ],
      "metadata": {
        "id": "S2BBcmUUFHFG"
      }
    },
    {
      "cell_type": "code",
      "source": [
        "width = int(input(\"Введите ширину\"))\n",
        "length = int(input(\"Введите длину\"))\n",
        "height = int(input(\"Введите высоту\"))\n",
        "if (width <= 15 and length <=15 and height <=15):\n",
        "    print(\"Коробка №1\")\n",
        "elif (15 < width < 50 or 15 < length < 50 or 15 < height < 50):\n",
        "    print(\"Коробка №2\")\n",
        "elif length > 200:\n",
        "    print(\"Упаковка для лыж\")"
      ],
      "metadata": {
        "colab": {
          "base_uri": "https://localhost:8080/"
        },
        "id": "iYAcGdOyFDUP",
        "outputId": "38fda089-601e-4fa9-fd41-90d4a35931e1"
      },
      "execution_count": null,
      "outputs": [
        {
          "output_type": "stream",
          "name": "stdout",
          "text": [
            "Введите ширину2\n",
            "Введите длину4\n",
            "Введите высоту7\n",
            "Коробка №1\n"
          ]
        }
      ]
    }
  ]
}